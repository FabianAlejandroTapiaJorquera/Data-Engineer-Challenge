{
 "cells": [
  {
   "cell_type": "markdown",
   "metadata": {},
   "source": [
    "En este archivo puedes escribir lo que estimes conveniente. Te recomendamos detallar tu solución y todas las suposiciones que estás considerando. Aquí puedes ejecutar las funciones que definiste en los otros archivos de la carpeta src, medir el tiempo, memoria, etc."
   ]
  },
  {
   "cell_type": "code",
   "execution_count": 9,
   "metadata": {},
   "outputs": [],
   "source": [
    "# Ruta donde se encuentra el archivo origen\n",
    "# Favor actualizar con tu ruta :)\n",
    "file_path = r\"C:\\Users\\fabia\\Desktop\\Data-Engineer-Challenge\\farmers-protest-tweets-2021-2-4.json\""
   ]
  },
  {
   "cell_type": "markdown",
   "metadata": {},
   "source": [
    "# Consideraciones\n",
    "- Dado que el archivo parece contar con un formato irregular (no estructurado) descartaremos el uso de pandas y utilizaremos jsonlines\n",
    "- Favor reiniciar el kernel en las ejecuciones ante cualquier problema\n",
    "- En el archivo time_profile.py creamos un decorador personalizado en base a la libreria cProfile para mostrar el tiempo de ejecución"
   ]
  },
  {
   "cell_type": "markdown",
   "metadata": {},
   "source": [
    "## 1.  Las top 10 fechas donde hay más tweets. "
   ]
  },
  {
   "cell_type": "code",
   "execution_count": 10,
   "metadata": {},
   "outputs": [],
   "source": [
    "# 1. Las top 10 fechas donde hay más tweets. \n",
    "# Mencionar el usuario (username) que más publicaciones tiene por cada uno de esos días. \n",
    "# Debe incluir las siguientes funciones:\n",
    "from q1_memory import q1_memory\n",
    "from q1_time import q1_time"
   ]
  },
  {
   "cell_type": "code",
   "execution_count": 11,
   "metadata": {},
   "outputs": [
    {
     "name": "stdout",
     "output_type": "stream",
     "text": [
      "[('2021-02-20T12:57:17+00:00', 1312680325047365633), ('2021-02-17T04:46:58+00:00', 1334454542713294849), ('2021-02-23T05:05:55+00:00', 1215921610890338306), ('2021-02-15T02:43:08+00:00', 781038774147018753), ('2021-02-24T04:30:00+00:00', 1281097044032057344), ('2021-02-23T05:11:25+00:00', 71129057), ('2021-02-23T04:18:06+00:00', 1344090487087575045), ('2021-02-23T04:16:28+00:00', 1344090487087575045), ('2021-02-23T01:55:07+00:00', 217105273), ('2021-02-22T04:57:34+00:00', 71129057)]\n"
     ]
    }
   ],
   "source": [
    "# Enfoque en optimización de memoria\n",
    "# El archivo q1_memory.py tiene el decorador @profile comentado, favor descomentar para monitorear el rendimiento :)\n",
    "# Se opta por imprimir ID de usuario, dado que es algo unico para cada cuenta\n",
    "print(q1_memory(file_path))"
   ]
  },
  {
   "cell_type": "markdown",
   "metadata": {},
   "source": [
    "## Top 10 emojis más usados"
   ]
  },
  {
   "cell_type": "code",
   "execution_count": 12,
   "metadata": {},
   "outputs": [],
   "source": [
    "# Los top 10 emojis más usados con su respectivo conteo.\n",
    "from q2_memory import q2_memory\n",
    "from q2_time import q2_time"
   ]
  },
  {
   "cell_type": "code",
   "execution_count": 13,
   "metadata": {},
   "outputs": [
    {
     "name": "stdout",
     "output_type": "stream",
     "text": [
      "[('🙏', 7286), ('😂', 3072), ('️', 3061), ('🚜', 2972), ('✊', 2411), ('🌾', 2363), ('🇮', 2096), ('🇳', 2094), ('🏻', 2080), ('❤', 1779)]\n"
     ]
    }
   ],
   "source": [
    "# Enfoque en optimización de memoria\n",
    "# # El archivo q2_memory.py tiene el decorador @profile comentado, favor descomentar para monitorear el rendimiento :)\n",
    "print(q2_memory(file_path))"
   ]
  },
  {
   "cell_type": "markdown",
   "metadata": {},
   "source": [
    "##  Top 10 histórico de usuarios (username) más influyentes"
   ]
  },
  {
   "cell_type": "code",
   "execution_count": 14,
   "metadata": {},
   "outputs": [],
   "source": [
    "# El top 10 histórico de usuarios (username) más influyentes en función del conteo de las menciones (@) que registra cada uno de ellos. \n",
    "from q3_memory import q3_memory\n",
    "from q3_time import q3_time"
   ]
  },
  {
   "cell_type": "code",
   "execution_count": 15,
   "metadata": {},
   "outputs": [
    {
     "name": "stdout",
     "output_type": "stream",
     "text": [
      "[('narendramodi', 2261), ('Kisanektamorcha', 1836), ('RakeshTikaitBKU', 1639), ('PMOIndia', 1422), ('RahulGandhi', 1125), ('GretaThunberg', 1046), ('RaviSinghKA', 1015), ('rihanna', 972), ('UNHumanRights', 962), ('meenaharris', 925)]\n"
     ]
    }
   ],
   "source": [
    "# Enfoque en optimización de memoria\n",
    "# # El archivo q3_memory.py tiene el decorador @profile comentado, favor descomentar para monitorear el rendimiento :)\n",
    "print(q3_memory(file_path))"
   ]
  },
  {
   "cell_type": "code",
   "execution_count": 16,
   "metadata": {},
   "outputs": [
    {
     "name": "stdout",
     "output_type": "stream",
     "text": [
      "[('narendramodi', 2261), ('Kisanektamorcha', 1836), ('RakeshTikaitBKU', 1639), ('PMOIndia', 1422), ('RahulGandhi', 1125), ('GretaThunberg', 1046), ('RaviSinghKA', 1015), ('rihanna', 972), ('UNHumanRights', 962), ('meenaharris', 925)]\n"
     ]
    }
   ],
   "source": [
    "# Enfoque en tiempo de ejecución\n",
    "# # El archivo q3_memory.py tiene el decorador @profile comentado, favor descomentar para monitorear el rendimiento :)\n",
    "print(q3_time(file_path))"
   ]
  }
 ],
 "metadata": {
  "kernelspec": {
   "display_name": "venv",
   "language": "python",
   "name": "python3"
  },
  "language_info": {
   "codemirror_mode": {
    "name": "ipython",
    "version": 3
   },
   "file_extension": ".py",
   "mimetype": "text/x-python",
   "name": "python",
   "nbconvert_exporter": "python",
   "pygments_lexer": "ipython3",
   "version": "3.11.9"
  },
  "orig_nbformat": 4
 },
 "nbformat": 4,
 "nbformat_minor": 2
}
