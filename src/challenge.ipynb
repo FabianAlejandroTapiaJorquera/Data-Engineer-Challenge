{
 "cells": [
  {
   "cell_type": "markdown",
   "metadata": {},
   "source": [
    "En este archivo puedes escribir lo que estimes conveniente. Te recomendamos detallar tu solución y todas las suposiciones que estás considerando. Aquí puedes ejecutar las funciones que definiste en los otros archivos de la carpeta src, medir el tiempo, memoria, etc."
   ]
  },
  {
   "cell_type": "code",
   "execution_count": 1,
   "metadata": {},
   "outputs": [],
   "source": [
    "# Ruta donde se encuentra el archivo origen\n",
    "# Favor actualizar con tu ruta :)\n",
    "file_path = r\"C:\\Users\\fabia\\Desktop\\Data-Engineer-Challenge\\farmers-protest-tweets-2021-2-4.json\""
   ]
  },
  {
   "cell_type": "markdown",
   "metadata": {},
   "source": [
    "# Consideraciones\n",
    "- Dado que el archivo parece contar con un formato irregular (no estructurado) descartaremos el uso de pandas y utilizaremos jsonlines\n",
    "- Favor reiniciar el kernel en las ejecuciones ante cualquier problema"
   ]
  },
  {
   "cell_type": "markdown",
   "metadata": {},
   "source": [
    "## 1.  Las top 10 fechas donde hay más tweets. "
   ]
  },
  {
   "cell_type": "code",
   "execution_count": 2,
   "metadata": {},
   "outputs": [],
   "source": [
    "# 1. Las top 10 fechas donde hay más tweets. \n",
    "# Mencionar el usuario (username) que más publicaciones tiene por cada uno de esos días. \n",
    "# Debe incluir las siguientes funciones:\n",
    "from q1_memory import q1_memory\n",
    "from q1_time import q1_time"
   ]
  },
  {
   "cell_type": "code",
   "execution_count": 3,
   "metadata": {},
   "outputs": [
    {
     "name": "stdout",
     "output_type": "stream",
     "text": [
      "[('2021-02-20T12:57:17+00:00', 1312680325047365633), ('2021-02-17T04:46:58+00:00', 1334454542713294849), ('2021-02-23T05:05:55+00:00', 1215921610890338306), ('2021-02-15T02:43:08+00:00', 781038774147018753), ('2021-02-24T04:30:00+00:00', 1281097044032057344), ('2021-02-23T05:11:25+00:00', 71129057), ('2021-02-23T04:18:06+00:00', 1344090487087575045), ('2021-02-23T04:16:28+00:00', 1344090487087575045), ('2021-02-23T01:55:07+00:00', 217105273), ('2021-02-22T04:57:34+00:00', 71129057)]\n"
     ]
    }
   ],
   "source": [
    "# Enfoque en optimización de memoria\n",
    "# El archivo q1_memory.py tiene el decorador @profile comentado, favor descomentar para monitorear el rendimiento :)\n",
    "# Se opta por imprimir ID de usuario, dado que es algo unico para cada cuenta\n",
    "print(q1_memory(file_path))"
   ]
  },
  {
   "cell_type": "markdown",
   "metadata": {},
   "source": [
    "## Top 10 emojis más usados"
   ]
  },
  {
   "cell_type": "code",
   "execution_count": 4,
   "metadata": {},
   "outputs": [],
   "source": [
    "# Los top 10 emojis más usados con su respectivo conteo.\n",
    "from q2_memory import q2_memory\n",
    "from q2_time import q2_time"
   ]
  },
  {
   "cell_type": "code",
   "execution_count": 5,
   "metadata": {},
   "outputs": [
    {
     "name": "stdout",
     "output_type": "stream",
     "text": [
      "[('🙏', 7286), ('😂', 3072), ('️', 3061), ('🚜', 2972), ('✊', 2411), ('🌾', 2363), ('🇮', 2096), ('🇳', 2094), ('🏻', 2080), ('❤', 1779)]\n"
     ]
    }
   ],
   "source": [
    "# Enfoque en optimización de memoria\n",
    "# # El archivo q2_memory.py tiene el decorador @profile comentado, favor descomentar para monitorear el rendimiento :)\n",
    "print(q2_memory(file_path))"
   ]
  },
  {
   "cell_type": "markdown",
   "metadata": {},
   "source": [
    "##  Top 10 histórico de usuarios (username) más influyentes"
   ]
  },
  {
   "cell_type": "code",
   "execution_count": 6,
   "metadata": {},
   "outputs": [],
   "source": [
    "# El top 10 histórico de usuarios (username) más influyentes en función del conteo de las menciones (@) que registra cada uno de ellos. \n",
    "from q3_memory import q3_memory\n",
    "from q3_time import q3_time"
   ]
  },
  {
   "cell_type": "code",
   "execution_count": 7,
   "metadata": {},
   "outputs": [
    {
     "name": "stdout",
     "output_type": "stream",
     "text": [
      "Filename: c:\\Users\\fabia\\Desktop\\Data-Engineer-Challenge\\src\\q3_memory.py\n",
      "\n",
      "Line #    Mem usage    Increment  Occurrences   Line Contents\n",
      "=============================================================\n",
      "    10    119.3 MiB    119.3 MiB           1   @profile\n",
      "    11                                         def q3_memory(file_path: str) -> List[Tuple[str, int]]:\n",
      "    12                                             # contador para las menciones de usuarios\n",
      "    13    119.3 MiB      0.0 MiB           1       contadorMenciones = Counter()\n",
      "    14                                             # variable donde almacenaremos nuestros resultados\n",
      "    15    119.3 MiB      0.0 MiB           1       resultado: List[Tuple[str, int]] = []\n",
      "    16                                             # Abrimos el archivo JSON\n",
      "    17    120.1 MiB     -0.1 MiB           2       with jsonlines.open(file_path) as twitter:\n",
      "    18                                                 # Recorremos cada publicación dentro del archivo\n",
      "    19    120.1 MiB  -8020.8 MiB      117408           for publicacion in twitter:\n",
      "    20                                                     # Publicaciones se encuentran en 'content'\n",
      "    21    120.1 MiB  -8021.1 MiB      117407               contenido = publicacion['content']\n",
      "    22    120.1 MiB  -8021.1 MiB      117407               if contenido:\n",
      "    23                                                         # Filtramos las menciones de usuarios con la expresión regular\n",
      "    24    120.1 MiB  -8021.3 MiB      117407                   mencionesEncontradas = mencionRegex.findall(contenido)\n",
      "    25    120.1 MiB  -8021.4 MiB      117407                   contadorMenciones.update(mencionesEncontradas)        \n",
      "    26                                             # Obtener los 10 usuarios más mencionados\n",
      "    27    120.1 MiB      0.0 MiB           1       resultadoMenciones = contadorMenciones.most_common(10)\n",
      "    28                                             # almacenamiento de los resultados\n",
      "    29    120.1 MiB      0.0 MiB          11       for mencion, count in resultadoMenciones:\n",
      "    30    120.1 MiB      0.0 MiB          10           resultado.append((mencion, count))\n",
      "    31    120.1 MiB      0.0 MiB           1       return resultado\n",
      "\n",
      "\n",
      "[('narendramodi', 2261), ('Kisanektamorcha', 1836), ('RakeshTikaitBKU', 1639), ('PMOIndia', 1422), ('RahulGandhi', 1125), ('GretaThunberg', 1046), ('RaviSinghKA', 1015), ('rihanna', 972), ('UNHumanRights', 962), ('meenaharris', 925)]\n"
     ]
    }
   ],
   "source": [
    "# Enfoque en optimización de memoria\n",
    "# # El archivo q3_memory.py tiene el decorador @profile comentado, favor descomentar para monitorear el rendimiento :)\n",
    "print(q3_memory(file_path))"
   ]
  }
 ],
 "metadata": {
  "kernelspec": {
   "display_name": "venv",
   "language": "python",
   "name": "python3"
  },
  "language_info": {
   "codemirror_mode": {
    "name": "ipython",
    "version": 3
   },
   "file_extension": ".py",
   "mimetype": "text/x-python",
   "name": "python",
   "nbconvert_exporter": "python",
   "pygments_lexer": "ipython3",
   "version": "3.11.9"
  },
  "orig_nbformat": 4
 },
 "nbformat": 4,
 "nbformat_minor": 2
}
