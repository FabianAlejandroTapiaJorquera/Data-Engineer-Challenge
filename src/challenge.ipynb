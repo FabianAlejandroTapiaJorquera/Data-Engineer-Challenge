{
 "cells": [
  {
   "cell_type": "markdown",
   "metadata": {},
   "source": [
    "En este archivo puedes escribir lo que estimes conveniente. Te recomendamos detallar tu solución y todas las suposiciones que estás considerando. Aquí puedes ejecutar las funciones que definiste en los otros archivos de la carpeta src, medir el tiempo, memoria, etc."
   ]
  },
  {
   "cell_type": "code",
   "execution_count": 1,
   "metadata": {},
   "outputs": [],
   "source": [
    "# Ruta donde se encuentra el archivo origen\n",
    "file_path = r\"C:\\Users\\fabia\\Desktop\\Data-Engineer-Challenge\\farmers-protest-tweets-2021-2-4.json\""
   ]
  },
  {
   "cell_type": "markdown",
   "metadata": {},
   "source": [
    "## 1.  Las top 10 fechas donde hay más tweets. "
   ]
  },
  {
   "cell_type": "code",
   "execution_count": 2,
   "metadata": {},
   "outputs": [],
   "source": [
    "# 1. Las top 10 fechas donde hay más tweets. \n",
    "# Mencionar el usuario (username) que más publicaciones tiene por cada uno de esos días. \n",
    "# Debe incluir las siguientes funciones:\n",
    "from q1_memory import q1_memory\n",
    "from q1_time import q1_time"
   ]
  },
  {
   "cell_type": "code",
   "execution_count": 3,
   "metadata": {},
   "outputs": [
    {
     "name": "stdout",
     "output_type": "stream",
     "text": [
      "1 Fecha: 2021-02-20T12:57:17+00:00, Usuario (id): 1312680325047365633\n",
      "2 Fecha: 2021-02-17T04:46:58+00:00, Usuario (id): 1334454542713294849\n",
      "3 Fecha: 2021-02-23T05:05:55+00:00, Usuario (id): 1215921610890338306\n",
      "4 Fecha: 2021-02-15T02:43:08+00:00, Usuario (id): 781038774147018753\n",
      "5 Fecha: 2021-02-24T04:30:00+00:00, Usuario (id): 1281097044032057344\n",
      "6 Fecha: 2021-02-23T05:11:25+00:00, Usuario (id): 71129057\n",
      "7 Fecha: 2021-02-23T04:18:06+00:00, Usuario (id): 1344090487087575045\n",
      "8 Fecha: 2021-02-23T04:16:28+00:00, Usuario (id): 1344090487087575045\n",
      "9 Fecha: 2021-02-23T01:55:07+00:00, Usuario (id): 217105273\n",
      "10 Fecha: 2021-02-22T04:57:34+00:00, Usuario (id): 71129057\n"
     ]
    }
   ],
   "source": [
    "# Enfoque en optimización de memoria\n",
    "# El archivo q1_memory.py tiene el decorador @profile comentado, favor descomentar para monitorear el rendimiento :)\n",
    "# Las variables utilizadas para los counts estan presentes en el archivo q1_memory.py, favor reiniciar el kernel en las ejecuciones para no obtener resultados alterados\n",
    "masTweets = q1_memory(file_path)\n",
    "n = 0\n",
    "for tweet in masTweets:\n",
    "    n += 1\n",
    "    print(f'{n} Fecha: {tweet[0]}, Usuario (id): {tweet[1]}')"
   ]
  }
 ],
 "metadata": {
  "kernelspec": {
   "display_name": "venv",
   "language": "python",
   "name": "python3"
  },
  "language_info": {
   "codemirror_mode": {
    "name": "ipython",
    "version": 3
   },
   "file_extension": ".py",
   "mimetype": "text/x-python",
   "name": "python",
   "nbconvert_exporter": "python",
   "pygments_lexer": "ipython3",
   "version": "3.11.9"
  },
  "orig_nbformat": 4
 },
 "nbformat": 4,
 "nbformat_minor": 2
}
