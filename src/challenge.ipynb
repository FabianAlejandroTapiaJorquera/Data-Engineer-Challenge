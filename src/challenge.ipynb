{
 "cells": [
  {
   "cell_type": "markdown",
   "metadata": {},
   "source": [
    "En este archivo puedes escribir lo que estimes conveniente. Te recomendamos detallar tu solución y todas las suposiciones que estás considerando. Aquí puedes ejecutar las funciones que definiste en los otros archivos de la carpeta src, medir el tiempo, memoria, etc."
   ]
  },
  {
   "cell_type": "code",
   "execution_count": 1,
   "metadata": {},
   "outputs": [],
   "source": [
    "# Ruta donde se encuentra el archivo origen\n",
    "# Favor actualizar con tu ruta :)\n",
    "file_path = r\"C:\\Users\\fabia\\Desktop\\Data-Engineer-Challenge\\farmers-protest-tweets-2021-2-4.json\""
   ]
  },
  {
   "cell_type": "markdown",
   "metadata": {},
   "source": [
    "# Consideraciones\n",
    "- Archivo parece contar con un formato irregular (no estructurado) \n",
    "- Favor reiniciar el kernel en las ejecuciones ante cualquier problema\n",
    "- En el archivo time_profile.py creamos un decorador personalizado en base a la libreria cProfile para mostrar el tiempo de ejecución\n",
    "- Para enfoque en optimización de memoria utilizaremos\n",
    "- Para enfoque en tiempo de ejecución utilizaremos jsonLines y pandas\n",
    "- No se incluyeron clausulas try except aunque sabemos lo valiosas que son"
   ]
  },
  {
   "cell_type": "markdown",
   "metadata": {},
   "source": [
    "## Libreria jsonlines\n",
    "Dado que tenemos un archivo no estructurado utilizaremos jsonlines dado que nos permitirá leer el archivo línea por línea haciendolo eficiente en terminos de memoria, esto dado que solo se mantiene una línea en memoria a la vez"
   ]
  },
  {
   "cell_type": "markdown",
   "metadata": {},
   "source": [
    "## Libreria pandas\n",
    "Realizar las operaciones de conteo o filtrado con pandas aprovecha las optimizaciones internas de la librería, lo que nos permite realizar las operaciones a todas las columnas a la vez en lugar de fila por fila, además de que estas operaciones son significativamente más rápidas que las tradicionales\n"
   ]
  },
  {
   "cell_type": "markdown",
   "metadata": {},
   "source": [
    "*Nota: De ser un archivo estructurado sería conveniente crear directamente un dataframe de pandas o dataframe para aprovechar las bondades de estas librerias, como puede ser aprovechar el paralelismo en el procesamiento que nos ofrece spark*\n",
    "*Nota: No en todos los casos se opta por utilizar pandas*"
   ]
  },
  {
   "cell_type": "markdown",
   "metadata": {},
   "source": [
    "## 1.  Las top 10 fechas donde hay más tweets. "
   ]
  },
  {
   "cell_type": "code",
   "execution_count": 2,
   "metadata": {},
   "outputs": [],
   "source": [
    "# 1. Las top 10 fechas donde hay más tweets. \n",
    "# Mencionar el usuario (username) que más publicaciones tiene por cada uno de esos días. \n",
    "# Debe incluir las siguientes funciones:\n",
    "from q1_memory import q1_memory\n",
    "from q1_time import q1_time"
   ]
  },
  {
   "cell_type": "code",
   "execution_count": 3,
   "metadata": {},
   "outputs": [
    {
     "name": "stdout",
     "output_type": "stream",
     "text": [
      "[(datetime.date(2021, 2, 12), '1332853294851530753'), (datetime.date(2021, 2, 13), '1333757109842939915'), (datetime.date(2021, 2, 17), '1334454542713294849'), (datetime.date(2021, 2, 16), '452391771'), (datetime.date(2021, 2, 14), '1354532795847073796'), (datetime.date(2021, 2, 18), '1355443675631783936'), (datetime.date(2021, 2, 15), '452391771'), (datetime.date(2021, 2, 20), '1342840568666189825'), (datetime.date(2021, 2, 23), '217105273'), (datetime.date(2021, 2, 19), '1344090487087575045')]\n"
     ]
    }
   ],
   "source": [
    "# Enfoque en optimización de memoria\n",
    "# El archivo q1_memory.py tiene el decorador @profile comentado, favor descomentar para monitorear el rendimiento :)\n",
    "# Se opta por imprimir ID de usuario, dado que es algo unico para cada cuenta\n",
    "print(q1_memory(file_path))"
   ]
  },
  {
   "cell_type": "code",
   "execution_count": 4,
   "metadata": {},
   "outputs": [
    {
     "name": "stdout",
     "output_type": "stream",
     "text": [
      "[(datetime.date(2021, 2, 12), '1332853294851530753'), (datetime.date(2021, 2, 13), '1333757109842939915'), (datetime.date(2021, 2, 17), '1334454542713294849'), (datetime.date(2021, 2, 16), '452391771'), (datetime.date(2021, 2, 14), '1354532795847073796'), (datetime.date(2021, 2, 18), '1355443675631783936'), (datetime.date(2021, 2, 15), '452391771'), (datetime.date(2021, 2, 20), '1342840568666189825'), (datetime.date(2021, 2, 23), '217105273'), (datetime.date(2021, 2, 19), '1344090487087575045')]\n"
     ]
    }
   ],
   "source": [
    "# Enfoque en tiempo de ejecución\n",
    "# El archivo q1_time.py tiene el decorador @profile_with_timing comentado, favor descomentar para monitorear el rendimiento :)\n",
    "# Se opta por imprimir ID de usuario, dado que es algo unico para cada cuenta\n",
    "print(q1_time(file_path))"
   ]
  },
  {
   "cell_type": "markdown",
   "metadata": {},
   "source": [
    "## Top 10 emojis más usados"
   ]
  },
  {
   "cell_type": "code",
   "execution_count": 5,
   "metadata": {},
   "outputs": [],
   "source": [
    "# Los top 10 emojis más usados con su respectivo conteo.\n",
    "from q2_memory import q2_memory\n",
    "from q2_time import q2_time"
   ]
  },
  {
   "cell_type": "code",
   "execution_count": 6,
   "metadata": {},
   "outputs": [
    {
     "name": "stdout",
     "output_type": "stream",
     "text": [
      "[('🙏', 7286), ('😂', 3072), ('🚜', 2972), ('✊', 2411), ('🌾', 2363), ('🇮', 2096), ('🇳', 2094), ('🏻', 2080), ('❤', 1779), ('🤣', 1668)]\n"
     ]
    }
   ],
   "source": [
    "# Enfoque en optimización de memoria\n",
    "# # El archivo q2_memory.py tiene el decorador @profile comentado, favor descomentar para monitorear el rendimiento :)\n",
    "print(q2_memory(file_path))"
   ]
  },
  {
   "cell_type": "code",
   "execution_count": 7,
   "metadata": {},
   "outputs": [
    {
     "name": "stdout",
     "output_type": "stream",
     "text": [
      "[('🙏', 7286), ('😂', 3072), ('🚜', 2972), ('✊', 2411), ('🌾', 2363), ('🇮', 2096), ('🇳', 2094), ('🏻', 2080), ('❤', 1779), ('🤣', 1668)]\n"
     ]
    }
   ],
   "source": [
    "# Enfoque en optimización de memoria\n",
    "# # El archivo q2_time.py tiene el decorador @profile_with_timing comentado, favor descomentar para monitorear el rendimiento :)\n",
    "print(q2_time(file_path))"
   ]
  },
  {
   "cell_type": "markdown",
   "metadata": {},
   "source": [
    "##  Top 10 histórico de usuarios (username) más influyentes"
   ]
  },
  {
   "cell_type": "code",
   "execution_count": 8,
   "metadata": {},
   "outputs": [],
   "source": [
    "# El top 10 histórico de usuarios (username) más influyentes en función del conteo de las menciones (@) que registra cada uno de ellos. \n",
    "from q3_memory import q3_memory\n",
    "from q3_time import q3_time"
   ]
  },
  {
   "cell_type": "code",
   "execution_count": 9,
   "metadata": {},
   "outputs": [
    {
     "name": "stdout",
     "output_type": "stream",
     "text": [
      "[('narendramodi', 2261), ('Kisanektamorcha', 1836), ('RakeshTikaitBKU', 1639), ('PMOIndia', 1422), ('RahulGandhi', 1125), ('GretaThunberg', 1046), ('RaviSinghKA', 1015), ('rihanna', 972), ('UNHumanRights', 962), ('meenaharris', 925)]\n"
     ]
    }
   ],
   "source": [
    "# Enfoque en optimización de memoria\n",
    "# # El archivo q3_memory.py tiene el decorador @profile comentado, favor descomentar para monitorear el rendimiento :)\n",
    "print(q3_memory(file_path))"
   ]
  },
  {
   "cell_type": "code",
   "execution_count": 10,
   "metadata": {},
   "outputs": [
    {
     "name": "stdout",
     "output_type": "stream",
     "text": [
      "[('narendramodi', 2261), ('Kisanektamorcha', 1836), ('RakeshTikaitBKU', 1639), ('PMOIndia', 1422), ('RahulGandhi', 1125), ('GretaThunberg', 1046), ('RaviSinghKA', 1015), ('rihanna', 972), ('UNHumanRights', 962), ('meenaharris', 925)]\n"
     ]
    }
   ],
   "source": [
    "# Enfoque en tiempo de ejecución\n",
    "# # El archivo q3_memory.py tiene el decorador @profile_with_timing comentado, favor descomentar para monitorear el rendimiento :)\n",
    "print(q3_time(file_path))"
   ]
  }
 ],
 "metadata": {
  "kernelspec": {
   "display_name": "venv",
   "language": "python",
   "name": "python3"
  },
  "language_info": {
   "codemirror_mode": {
    "name": "ipython",
    "version": 3
   },
   "file_extension": ".py",
   "mimetype": "text/x-python",
   "name": "python",
   "nbconvert_exporter": "python",
   "pygments_lexer": "ipython3",
   "version": "3.11.9"
  },
  "orig_nbformat": 4
 },
 "nbformat": 4,
 "nbformat_minor": 2
}
